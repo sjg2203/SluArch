{
 "cells": [
  {
   "cell_type": "markdown",
   "source": [
    "# How to use SlµArch:\n",
    "\n",
    "#### Computing sleep spindles using the absolute power:\n",
    "\n",
    "```math\n",
    "P_{abs\\sigma}(dB)=log10(\\tfrac{\\int_{11}^{16}\\left|x(t)\\right|^{2}dt}{\\int_{0.1}^{45}\\left|x(t)\\right|^{2}dt})$\n",
    "log10(\\tfrac{\\int_{11}^{16}\\left|x(t)\\right|^{2}dt}{\\int_{0.5}^{4}\\left|x(t)\\right|^{2}dt})\n",
    "```"
   ],
   "metadata": {}
  },
  {
   "cell_type": "code",
   "execution_count": null,
   "source": [
    "import sluarch\n",
    "import mne\n",
    "\n",
    "#Load an EDF file using MNE\n",
    "raw=mne.io.read_raw_edf(\"myfile.edf\",preload=True)\n",
    "\n",
    "sfreq=raw.info['sfreq']\n",
    "\n",
    "sluarch.spindles_abs(raw,sf=sfreq,thresh=1.25)"
   ],
   "metadata": {},
   "outputs": []
  },
  {
   "metadata": {},
   "cell_type": "markdown",
   "source": [
    "#### Computing sleep spindles using the relative power:\n",
    "\n",
    "```math\n",
    "P_{rel\\sigma}(dB)=log10(\\tfrac{\\int_{11}^{16}\\left|x(t)\\right|^{2}dt}{\\int_{0.1}^{45}\\left|x(t)\\right|^{2}dt})$\n",
    "log10(\\tfrac{\\int_{11}^{16}\\left|x(t)\\right|^{2}dt}{\\int_{0.1}^{45}\\left|x(t)\\right|^{2}dt})\n",
    "```"
   ]
  },
  {
   "metadata": {},
   "cell_type": "code",
   "execution_count": null,
   "source": [
    "import sluarch\n",
    "import mne\n",
    "\n",
    "#Load an EDF file using MNE\n",
    "raw=mne.io.read_raw_edf(\"myfile.edf\",preload=True)\n",
    "\n",
    "sfreq=raw.info['sfreq']\n",
    "\n",
    "sluarch.spindles_rel(raw,sf=sfreq,thresh=0.2)"
   ],
   "outputs": []
  },
  {
   "metadata": {},
   "cell_type": "markdown",
   "source": "#### Computing slow oscillations:"
  },
  {
   "metadata": {},
   "cell_type": "code",
   "execution_count": null,
   "source": [
    "import sluarch\n",
    "import mne\n",
    "\n",
    "#Load an EDF file using MNE\n",
    "raw=mne.io.read_raw_edf(\"myfile.edf\",preload=True)\n",
    "\n",
    "sfreq=raw.info['sfreq']\n",
    "\n",
    "sluarch.slowosc(raw,sf=sfreq)"
   ],
   "outputs": []
  },
  {
   "metadata": {},
   "cell_type": "markdown",
   "source": "#### Computing K-complex:"
  },
  {
   "metadata": {},
   "cell_type": "code",
   "execution_count": null,
   "source": [
    "import sluarch\n",
    "import mne\n",
    "\n",
    "#Load an EDF file using MNE\n",
    "raw=mne.io.read_raw_edf(\"myfile.edf\",preload=True)\n",
    "\n",
    "sfreq=raw.info['sfreq']\n",
    "\n",
    "sluarch.kcomp(raw,sf=sfreq,Kplot=False)\n",
    "\n",
    "#It is also possible to visualize the detected K-complex by amending `Kplot=False` with `Kplot=True` as shown below:\n",
    "\n",
    "sluarch.kcomp(raw,sf=sfreq,Kplot=True)"
   ],
   "outputs": []
  }
 ],
 "metadata": {
  "kernelspec": {
   "display_name": "Python 3",
   "language": "python",
   "name": "python3"
  },
  "language_info": {
   "codemirror_mode": {
    "name": "ipython",
    "version": 3
   },
   "file_extension": ".py",
   "mimetype": "text/x-python",
   "name": "python",
   "nbconvert_exporter": "python",
   "pygments_lexer": "ipython3",
   "version": "3.8.5"
  }
 },
 "nbformat": 4,
 "nbformat_minor": 4
}
